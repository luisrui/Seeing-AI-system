{
 "cells": [
  {
   "cell_type": "code",
   "execution_count": 5,
   "id": "177c8c2f-2061-415f-8c8d-2d653e127a2f",
   "metadata": {},
   "outputs": [],
   "source": [
    "import pandas as pd\n",
    "import cv2 as cv\n",
    "from LocateMaskFace import CropMaskFace\n",
    "from Wearmask import wearmask"
   ]
  },
  {
   "cell_type": "code",
   "execution_count": 6,
   "id": "066b211e-3dae-4d1a-9833-2dad5eb5385b",
   "metadata": {},
   "outputs": [],
   "source": [
    "mask = cv.imread('./mask_template/N95.png')\n",
    "train = pd.read_csv('train.csv')"
   ]
  },
  {
   "cell_type": "code",
   "execution_count": null,
   "id": "6444e111-bb0c-49f1-8e28-54a56d63244e",
   "metadata": {},
   "outputs": [],
   "source": [
    "import os\n",
    "trainlist = []\n",
    "for train_dir, label in zip(train.img_train, train.label_train):\n",
    "    path = os.path.join('./LFW_Folder/maskpics/' + train_dir[:-9] + '/' + train_dir)\n",
    "    img = cv.imread(path)\n",
    "    if img is None:\n",
    "        path = os.path.join('./LFW_Folder/lfw_funneled/' + train_dir[:-9] + '/' + train_dir)\n",
    "        img = cv.imread(path)\n",
    "        mask_img, val = wearmask(img, mask)\n",
    "        if val:\n",
    "            mask_crop, valid = CropMaskFace(mask_img)\n",
    "            if valid:\n",
    "                filename = 'train/' + train_dir\n",
    "                cv.imwrite(f'./train/{train_dir}', mask_crop)\n",
    "                trainlist.append([train_dir, label])\n",
    "    else:\n",
    "        mask_crop, valid = CropMaskFace(img)\n",
    "        if valid:\n",
    "            filename = 'train/' + train_dir\n",
    "            cv.imwrite(f'./train/{train_dir}', mask_crop)\n",
    "            trainlist.append([train_dir, label])"
   ]
  },
  {
   "cell_type": "code",
   "execution_count": null,
   "id": "a21fed69-a14f-43b8-88c1-e813132f6d14",
   "metadata": {},
   "outputs": [],
   "source": [
    "trainlist = pd.DataFrame(trainlist)\n",
    "trainlist.columns = ['img_train', 'label_train']\n",
    "trainlist.to_csv('mask_train.csv')"
   ]
  },
  {
   "cell_type": "code",
   "execution_count": null,
   "id": "276afc6a",
   "metadata": {},
   "outputs": [],
   "source": [
    "\n",
    "testlist = []\n",
    "test = pd.read_csv('test.csv')\n",
    "for test_dir, label in zip(test.img_test, test.label_test):\n",
    "    path = os.path.join('./LFW_Folder/maskpics/' + test_dir[:-9] + '/' + test_dir)\n",
    "    img = cv.imread(path)\n",
    "    if img is None:\n",
    "        path = os.path.join('./LFW_Folder/lfw_funneled/' + test_dir[:-9] + '/' + test_dir)\n",
    "        img = cv.imread(path)\n",
    "        mask_img, val = wearmask(img, mask)\n",
    "        if val:\n",
    "            mask_crop, valid = CropMaskFace(mask_img)\n",
    "            if valid:\n",
    "                filename = 'test/' + test_dir\n",
    "                cv.imwrite(f'./test/{test_dir}', mask_crop)\n",
    "                testlist.append([test_dir, label])\n",
    "    else:\n",
    "        mask_crop, valid = CropMaskFace(img)\n",
    "        if valid:\n",
    "            filename = 'test/' + test_dir\n",
    "            cv.imwrite(f'./test/{test_dir}', mask_crop)\n",
    "            testlist.append([test_dir, label])"
   ]
  },
  {
   "cell_type": "code",
   "execution_count": null,
   "id": "8686cc30",
   "metadata": {},
   "outputs": [],
   "source": [
    "\n",
    "vallist = []\n",
    "val = pd.read_csv('val.csv')\n",
    "for val_dir, label in zip(val.img_val, val.label_val):\n",
    "    path = os.path.join('./LFW_Folder/maskpics/' + val_dir[:-9] + '/' + val_dir)\n",
    "    img = cv.imread(path)\n",
    "    if img is None:\n",
    "        path = os.path.join('./LFW_Folder/lfw_funneled/' + val_dir[:-9] + '/' + val_dir)\n",
    "        img = cv.imread(path)\n",
    "        mask_img, val = wearmask(img, mask)\n",
    "        if val:\n",
    "            mask_crop, valid = CropMaskFace(mask_img)\n",
    "            if valid:\n",
    "                filename = 'val/' + val_dir\n",
    "                cv.imwrite(f'./val/{val_dir}', mask_crop)\n",
    "                vallist.append([filename, label])\n",
    "    else:\n",
    "        mask_crop, valid = CropMaskFace(img)\n",
    "        if valid:\n",
    "            filename = 'val/' + val_dir\n",
    "            cv.imwrite(f'./val/{val_dir}', mask_crop)\n",
    "            vallist.append([filename, label])"
   ]
  }
 ],
 "metadata": {
  "kernelspec": {
   "display_name": "Python 3.8.8 ('base')",
   "language": "python",
   "name": "python3"
  },
  "language_info": {
   "codemirror_mode": {
    "name": "ipython",
    "version": 3
   },
   "file_extension": ".py",
   "mimetype": "text/x-python",
   "name": "python",
   "nbconvert_exporter": "python",
   "pygments_lexer": "ipython3",
   "version": "3.8.8 (default, Apr 13 2021, 15:08:03) [MSC v.1916 64 bit (AMD64)]"
  },
  "vscode": {
   "interpreter": {
    "hash": "e2aae14933474253bf7e204dfdcd59c9e221c3358c06c5af46c0ae09e251b4f0"
   }
  }
 },
 "nbformat": 4,
 "nbformat_minor": 5
}
