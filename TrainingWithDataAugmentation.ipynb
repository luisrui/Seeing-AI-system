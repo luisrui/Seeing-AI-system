{
 "cells": [
  {
   "cell_type": "markdown",
   "id": "d16d929d-3e21-4af9-a6a6-60e7d1631f48",
   "metadata": {},
   "source": [
    "# Training with Data Augmentation"
   ]
  },
  {
   "cell_type": "code",
   "execution_count": 2,
   "id": "6f253dc0-7e4c-42f8-bb67-b140f4175b6b",
   "metadata": {},
   "outputs": [],
   "source": [
    "from facenet_pytorch import MTCNN\n",
    "import cv2\n",
    "from PIL import Image\n",
    "import torchvision\n",
    "import matplotlib.pyplot as plt\n",
    "import pandas as pd\n",
    "import torch\n",
    "from torch.utils.data import Dataset\n",
    "from torchvision.transforms import ToTensor\n",
    "from torchvision import transforms\n",
    "import numpy as np\n",
    "import os\n",
    "from torch.optim.lr_scheduler import MultiStepLR\n",
    "from torch.utils.tensorboard import SummaryWriter\n",
    "from facenet_pytorch import InceptionResnetV1\n",
    "from torch import optim\n",
    "from facenet_pytorch import fixed_image_standardization, training\n",
    "from torch.utils.data import DataLoader"
   ]
  },
  {
   "cell_type": "code",
   "execution_count": 95,
   "id": "19f33a95-d787-4441-93c0-49a9ed0556d7",
   "metadata": {},
   "outputs": [],
   "source": [
    "os.mkdir('crop-mask-aug')\n",
    "os.mkdir('crop-mask-aug/train')"
   ]
  },
  {
   "cell_type": "code",
   "execution_count": 96,
   "id": "4928ac14-a469-4ce0-83ca-bb8f14925f59",
   "metadata": {},
   "outputs": [],
   "source": [
    "orig_img = cv2.imread('crop-mask-face/test/Alejandro_Toledo_0007.jpg')\n",
    "orig_img = cv2.cvtColor(orig_img, cv2.COLOR_BGR2RGB)"
   ]
  },
  {
   "cell_type": "code",
   "execution_count": 97,
   "id": "1a33b401-3512-4e04-8b6e-4e23c9d5e6af",
   "metadata": {},
   "outputs": [
    {
     "data": {
      "text/plain": [
       "numpy.ndarray"
      ]
     },
     "execution_count": 97,
     "metadata": {},
     "output_type": "execute_result"
    }
   ],
   "source": [
    "type(orig_img)"
   ]
  },
  {
   "cell_type": "code",
   "execution_count": 98,
   "id": "9a96a4d8-879e-4dcf-8002-228b2abd9c60",
   "metadata": {},
   "outputs": [],
   "source": [
    "orig_img = Image.fromarray(orig_img)"
   ]
  },
  {
   "cell_type": "code",
   "execution_count": 99,
   "id": "7f51faeb-00ea-42c9-98e0-2e65a8ecfa85",
   "metadata": {},
   "outputs": [],
   "source": [
    "def plot(imgs, with_orig=True, row_title=None, **imshow_kwargs):\n",
    "    if not isinstance(imgs[0], list):\n",
    "        # Make a 2d grid even if there's just 1 row\n",
    "        imgs = [imgs]\n",
    "\n",
    "    num_rows = len(imgs)\n",
    "    num_cols = len(imgs[0]) + with_orig\n",
    "    fig, axs = plt.subplots(nrows=num_rows, ncols=num_cols, squeeze=False)\n",
    "    for row_idx, row in enumerate(imgs):\n",
    "        row = [orig_img] + row if with_orig else row\n",
    "        for col_idx, img in enumerate(row):\n",
    "            ax = axs[row_idx, col_idx]\n",
    "            ax.imshow(np.asarray(img), **imshow_kwargs)\n",
    "            ax.set(xticklabels=[], yticklabels=[], xticks=[], yticks=[])\n",
    "\n",
    "    if with_orig:\n",
    "        axs[0, 0].set(title='Original image')\n",
    "        axs[0, 0].title.set_size(8)\n",
    "    if row_title is not None:\n",
    "        for row_idx in range(num_rows):\n",
    "            axs[row_idx, 0].set(ylabel=row_title[row_idx])\n",
    "\n",
    "    plt.tight_layout()"
   ]
  },
  {
   "cell_type": "code",
   "execution_count": 100,
   "id": "784b99ac-6e81-430f-9d37-0c4b7c1a53be",
   "metadata": {},
   "outputs": [
    {
     "data": {
      "image/png": "[encoded data removed]",
      "text/plain": [
       "<Figure size 432x288 with 6 Axes>"
      ]
     },
     "metadata": {},
     "output_type": "display_data"
    }
   ],
   "source": [
    "import torchvision.transforms as T\n",
    "rotater = T.RandomRotation(degrees=(-20,20))\n",
    "rotated_imgs = [rotater(orig_img) for _ in range(4)]+[orig_img]\n",
    "# row_title = [str(policy).split('.')[-1] for policy in policies]\n",
    "plot(rotated_imgs)"
   ]
  },
  {
   "cell_type": "code",
   "execution_count": 101,
   "id": "b03b0b95-ec3a-44b5-bac1-40df00208654",
   "metadata": {},
   "outputs": [],
   "source": [
    "train_list = os.listdir('crop-mask-face/train/')"
   ]
  },
  {
   "cell_type": "code",
   "execution_count": 102,
   "id": "40d087c2-ad82-4631-a0a8-91c5e745b961",
   "metadata": {},
   "outputs": [],
   "source": [
    "train_list = [item for item in train_list if '.jpg' in item ]"
   ]
  },
  {
   "cell_type": "code",
   "execution_count": 103,
   "id": "39546cc7-c78f-409f-958b-714daa7e284f",
   "metadata": {},
   "outputs": [],
   "source": [
    "train_dst = []"
   ]
  },
  {
   "cell_type": "code",
   "execution_count": 104,
   "id": "434b57ea-a013-439f-8341-3692895bc98e",
   "metadata": {},
   "outputs": [],
   "source": [
    "for img_name in train_list:\n",
    "    orig_img = cv2.imread(os.path.join('crop-mask-face/train/',img_name))\n",
    "    # orig_img = cv2.equalizeHist(orig_img)\n",
    "    orig_img = Image.fromarray(orig_img)\n",
    "    # orig_img = cv2.cvtColor(orig_img, cv2.COLOR_BGR2RGB)\n",
    "    imgs = [orig_img]+[rotater(orig_img) for _ in range(3)]\n",
    "    # print(imgs)\n",
    "    for i in range(4):\n",
    "        dst = 'aug'+str(i)+'_'+img_name\n",
    "        train_dst.append(dst)\n",
    "        cv2.imwrite(os.path.join('crop-mask-aug/train',dst),np.asarray(imgs[i]))"
   ]
  },
  {
   "cell_type": "code",
   "execution_count": 105,
   "id": "eeb696ea-fbaa-492d-9506-07cb034b0051",
   "metadata": {},
   "outputs": [
    {
     "data": {
      "text/plain": [
       "5360"
      ]
     },
     "execution_count": 105,
     "metadata": {},
     "output_type": "execute_result"
    }
   ],
   "source": [
    "len(train_dst)"
   ]
  },
  {
   "cell_type": "code",
   "execution_count": 106,
   "id": "83a1420e-5595-4ff9-a44f-9dde4ec0b7ec",
   "metadata": {},
   "outputs": [],
   "source": [
    "names = pd.read_csv('target_names.csv',index_col = 0)"
   ]
  },
  {
   "cell_type": "code",
   "execution_count": 107,
   "id": "a8e89c54-7a9c-437a-b428-8d13b2e4b42a",
   "metadata": {},
   "outputs": [],
   "source": [
    "labels_new = []\n",
    "for item in train_dst:\n",
    "    for name in names['0']:\n",
    "        if name in item:\n",
    "            labels_new.append(int(names[names['0']==name].index.values))\n",
    "train_new = {'train_file': train_dst,'labels': labels_new }\n",
    "train_new = pd.DataFrame(train_new)"
   ]
  },
  {
   "cell_type": "code",
   "execution_count": 108,
   "id": "eb623db1-c8d9-4d57-9e38-fa7115311dad",
   "metadata": {},
   "outputs": [],
   "source": [
    "train_new.to_csv('train_new.csv',index = False)"
   ]
  },
  {
   "cell_type": "code",
   "execution_count": 4,
   "id": "b6af4c68-10b5-4bc1-96ec-5498d317d4cf",
   "metadata": {},
   "outputs": [],
   "source": [
    "class CustomImageDataset(Dataset):\n",
    "\n",
    "    def __init__(self, csv_file, root_dir, transform=ToTensor()):\n",
    "        \"\"\"\n",
    "        Args:\n",
    "            csv_file (string): Path to the csv file with annotations.\n",
    "            root_dira (string): Directory with all the images.\n",
    "            transform (callable, optional): Optional transform to be applied\n",
    "                on a sample.\n",
    "        \"\"\"\n",
    "        self.landmarks_frame = pd.read_csv(csv_file)\n",
    "        self.root_dir = root_dir\n",
    "        self.transform = transform\n",
    "    def __len__(self):\n",
    "        return len(self.landmarks_frame)\n",
    "\n",
    "    def __getitem__(self, idx):\n",
    "        if torch.is_tensor(idx):\n",
    "            idx = idx.tolist()\n",
    "\n",
    "        img_name = os.path.join(self.root_dir,\n",
    "                                self.landmarks_frame.iloc[idx, 0])\n",
    "        image = cv2.imread(img_name)\n",
    "        # image = image.view((224,224,3))\n",
    "        image = cv2.cvtColor(image, cv2.COLOR_BGR2RGB)\n",
    "        # image = cv2.equalizeHist(image)\n",
    "        image = Image.fromarray(image)\n",
    "        # print(type(image))\n",
    "        # # image = np.transpose(image,(1,2,0)) \n",
    "        label = self.landmarks_frame.iloc[idx, 1]\n",
    "        label = np.array(label)\n",
    "        if self.transform:\n",
    "            image = self.transform(image)\n",
    "        return image,label"
   ]
  },
  {
   "cell_type": "code",
   "execution_count": 5,
   "id": "4273abeb-b91e-48f7-ac21-19761afeb63c",
   "metadata": {},
   "outputs": [],
   "source": [
    "from facenet_pytorch import fixed_image_standardization, training\n",
    "preprocessing = transforms.Compose([\n",
    "    np.float32,\n",
    "    transforms.ToTensor(),\n",
    "    transforms.Resize((160,160)),\n",
    "    fixed_image_standardization\n",
    "])\n",
    "\n",
    "trainset = CustomImageDataset(csv_file = 'train_new.csv',\n",
    "                              root_dir='crop-mask-aug/train/',\n",
    "                             transform = preprocessing)"
   ]
  },
  {
   "cell_type": "code",
   "execution_count": 6,
   "id": "d169731a-a6eb-4272-ba2c-dccf491edef2",
   "metadata": {},
   "outputs": [
    {
     "name": "stderr",
     "output_type": "stream",
     "text": [
      "Clipping input data to the valid range for imshow with RGB data ([0..1] for floats or [0..255] for integers).\n",
      "Clipping input data to the valid range for imshow with RGB data ([0..1] for floats or [0..255] for integers).\n",
      "Clipping input data to the valid range for imshow with RGB data ([0..1] for floats or [0..255] for integers).\n"
     ]
    },
    {
     "name": "stdout",
     "output_type": "stream",
     "text": [
      "0 torch.Size([3, 160, 160])\n",
      "1 torch.Size([3, 160, 160])\n",
      "2 torch.Size([3, 160, 160])\n",
      "3 torch.Size([3, 160, 160])\n"
     ]
    },
    {
     "name": "stderr",
     "output_type": "stream",
     "text": [
      "Clipping input data to the valid range for imshow with RGB data ([0..1] for floats or [0..255] for integers).\n"
     ]
    },
    {
     "data": {
      "image/png": "[encoded data removed]",
      "text/plain": [
       "<Figure size 432x288 with 4 Axes>"
      ]
     },
     "metadata": {
      "needs_background": "light"
     },
     "output_type": "display_data"
    }
   ],
   "source": [
    "for i in range(len(trainset)):\n",
    "    data,label = trainset[i]\n",
    "\n",
    "    print(i, data.shape)\n",
    "\n",
    "    ax = plt.subplot(1, 4, i + 1)\n",
    "    plt.tight_layout()\n",
    "    ax.set_title('Sample #{}'.format(i))\n",
    "    ax.axis('off')\n",
    "    plt.imshow(data.permute(1,2,0),cmap = plt.cm.gray)\n",
    "    if i == 3:\n",
    "        plt.show()\n",
    "        break"
   ]
  },
  {
   "cell_type": "code",
   "execution_count": 7,
   "id": "8d20d2f3-e57f-4d13-9775-6246b8f0d66b",
   "metadata": {},
   "outputs": [],
   "source": [
    "from torch.utils.data import DataLoader\n",
    "trainloader = DataLoader(trainset, batch_size=8,\n",
    "                        shuffle=True, num_workers=0)"
   ]
  },
  {
   "cell_type": "code",
   "execution_count": 8,
   "id": "a4c8f606-ff44-4f97-98c4-5a6beac38435",
   "metadata": {},
   "outputs": [],
   "source": [
    "testset = CustomImageDataset(csv_file = 'test.csv',\n",
    "                              root_dir='crop-mask-face/test/',\n",
    "                             transform = preprocessing)\n",
    "testloader = DataLoader(testset, batch_size=8,\n",
    "                        shuffle=True, num_workers=0)\n",
    "valset = CustomImageDataset(csv_file = 'val.csv',\n",
    "                              root_dir='crop-mask-face/val/',\n",
    "                             transform = preprocessing)\n",
    "valloader = DataLoader(valset, batch_size=8,\n",
    "                        shuffle=True, num_workers=0)"
   ]
  },
  {
   "cell_type": "code",
   "execution_count": 9,
   "id": "bb3e9825-20da-4ef7-84e7-a5eb9deba102",
   "metadata": {},
   "outputs": [],
   "source": [
    "from torch.optim.lr_scheduler import MultiStepLR\n",
    "from torch.utils.tensorboard import SummaryWriter\n",
    "from facenet_pytorch import InceptionResnetV1\n",
    "from torch import optim\n",
    "device = \"cuda\" if torch.cuda.is_available() else \"cpu\"\n",
    "resnet = InceptionResnetV1(\n",
    "    classify=True,\n",
    "    pretrained='vggface2',\n",
    "    num_classes= 50\n",
    ").to(device)\n",
    "optimizer = optim.Adam(resnet.parameters(), lr=0.001)\n",
    "scheduler = MultiStepLR(optimizer, [5, 10])\n",
    "loss_fn = torch.nn.CrossEntropyLoss()\n",
    "metrics = {\n",
    "    'fps': training.BatchTimer(),\n",
    "    'acc': training.accuracy\n",
    "}"
   ]
  },
  {
   "cell_type": "code",
   "execution_count": 10,
   "id": "62563883-2f0f-4566-8a29-f0f3f2d53376",
   "metadata": {},
   "outputs": [
    {
     "name": "stdout",
     "output_type": "stream",
     "text": [
      "\n",
      "\n",
      "Initial\n",
      "----------\n",
      "Valid |    21/21   | loss:    3.9367 | fps:   91.4612 | acc:    0.0377   \n",
      "\n",
      "Epoch 1/35\n",
      "----------\n",
      "Train |   670/670  | loss:    2.9918 | fps:   76.4620 | acc:    0.2293   \n",
      "Valid |    21/21   | loss:    1.9205 | fps:  111.8854 | acc:    0.4821   \n",
      "! Save Model of 0 Epoch !\n",
      "\n",
      "Epoch 2/35\n",
      "----------\n",
      "Train |   670/670  | loss:    1.8488 | fps:   77.8157 | acc:    0.4726   \n",
      "Valid |    21/21   | loss:    1.4807 | fps:  104.0110 | acc:    0.6151   \n",
      "! Save Model of 1 Epoch !\n",
      "\n",
      "Epoch 3/35\n",
      "----------\n",
      "Train |   670/670  | loss:    1.2620 | fps:   77.4809 | acc:    0.6397   \n",
      "Valid |    21/21   | loss:    0.9448 | fps:  115.6847 | acc:    0.7520   \n",
      "! Save Model of 2 Epoch !\n",
      "\n",
      "Epoch 4/35\n",
      "----------\n",
      "Train |   670/670  | loss:    0.9373 | fps:   77.9314 | acc:    0.7200   \n",
      "Valid |    21/21   | loss:    0.9582 | fps:  101.7423 | acc:    0.7758   \n",
      "\n",
      "Epoch 5/35\n",
      "----------\n",
      "Train |   670/670  | loss:    0.6472 | fps:   76.7165 | acc:    0.8043   \n",
      "Valid |    21/21   | loss:    0.7854 | fps:  105.2592 | acc:    0.7738   \n",
      "! Save Model of 4 Epoch !\n",
      "\n",
      "Epoch 6/35\n",
      "----------\n",
      "Train |   670/670  | loss:    0.2834 | fps:   74.5622 | acc:    0.9205   \n",
      "Valid |    21/21   | loss:    0.4938 | fps:  105.1694 | acc:    0.8710   \n",
      "! Save Model of 5 Epoch !\n",
      "\n",
      "Epoch 7/35\n",
      "----------\n",
      "Train |   670/670  | loss:    0.1780 | fps:   74.9047 | acc:    0.9543   \n",
      "Valid |    21/21   | loss:    0.4801 | fps:  117.7513 | acc:    0.8631   \n",
      "! Save Model of 6 Epoch !\n",
      "\n",
      "Epoch 8/35\n",
      "----------\n",
      "Train |   670/670  | loss:    0.1300 | fps:   76.3447 | acc:    0.9666   \n",
      "Valid |    21/21   | loss:    0.4771 | fps:  106.1955 | acc:    0.8790   \n",
      "! Save Model of 7 Epoch !\n",
      "\n",
      "Epoch 9/35\n",
      "----------\n",
      "Train |   670/670  | loss:    0.0925 | fps:   76.6797 | acc:    0.9791   \n",
      "Valid |    21/21   | loss:    0.4869 | fps:  104.9407 | acc:    0.8869   \n",
      "\n",
      "Epoch 10/35\n",
      "----------\n",
      "Train |   670/670  | loss:    0.0767 | fps:   76.5186 | acc:    0.9800   \n",
      "Valid |    21/21   | loss:    0.4610 | fps:   94.8807 | acc:    0.8988   \n",
      "! Save Model of 9 Epoch !\n",
      "\n",
      "Epoch 11/35\n",
      "----------\n",
      "Train |   670/670  | loss:    0.0589 | fps:   77.4767 | acc:    0.9879   \n",
      "Valid |    21/21   | loss:    0.4538 | fps:   92.7362 | acc:    0.8988   \n",
      "! Save Model of 10 Epoch !\n",
      "\n",
      "Epoch 12/35\n",
      "----------\n",
      "Train |   670/670  | loss:    0.0605 | fps:   75.3036 | acc:    0.9868   \n",
      "Valid |    21/21   | loss:    0.4703 | fps:   94.3730 | acc:    0.8810   \n",
      "\n",
      "Epoch 13/35\n",
      "----------\n",
      "Train |   670/670  | loss:    0.0550 | fps:   78.7501 | acc:    0.9879   \n",
      "Valid |    21/21   | loss:    0.4789 | fps:  120.0856 | acc:    0.8849   \n",
      "\n",
      "Epoch 14/35\n",
      "----------\n",
      "Train |   670/670  | loss:    0.0542 | fps:   77.9243 | acc:    0.9888   \n",
      "Valid |    21/21   | loss:    0.4401 | fps:  114.3463 | acc:    0.8849   \n",
      "! Save Model of 13 Epoch !\n",
      "\n",
      "Epoch 15/35\n",
      "----------\n",
      "Train |   670/670  | loss:    0.0472 | fps:   78.1938 | acc:    0.9918   \n",
      "Valid |    21/21   | loss:    0.4347 | fps:  106.1162 | acc:    0.8869   \n",
      "! Save Model of 14 Epoch !\n",
      "\n",
      "Epoch 16/35\n",
      "----------\n",
      "Train |   670/670  | loss:    0.0452 | fps:   77.7737 | acc:    0.9912   \n",
      "Valid |    21/21   | loss:    0.4385 | fps:  111.5109 | acc:    0.8909   \n",
      "\n",
      "Epoch 17/35\n",
      "----------\n",
      "Train |   670/670  | loss:    0.0494 | fps:   77.5514 | acc:    0.9896   \n",
      "Valid |    21/21   | loss:    0.4422 | fps:  123.1401 | acc:    0.9048   \n",
      "\n",
      "Epoch 18/35\n",
      "----------\n",
      "Train |   670/670  | loss:    0.0429 | fps:   78.8170 | acc:    0.9916   \n",
      "Valid |    21/21   | loss:    0.4510 | fps:  100.4176 | acc:    0.8968   \n",
      "\n",
      "Epoch 19/35\n",
      "----------\n",
      "Train |   670/670  | loss:    0.0441 | fps:   78.3738 | acc:    0.9914   \n",
      "Valid |    21/21   | loss:    0.4335 | fps:   92.7398 | acc:    0.8869   \n",
      "! Save Model of 18 Epoch !\n",
      "\n",
      "Epoch 20/35\n",
      "----------\n",
      "Train |   670/670  | loss:    0.0438 | fps:   78.6780 | acc:    0.9914   \n",
      "Valid |    21/21   | loss:    0.4379 | fps:   88.1668 | acc:    0.8909   \n",
      "\n",
      "Epoch 21/35\n",
      "----------\n",
      "Train |   670/670  | loss:    0.0437 | fps:   78.5896 | acc:    0.9920   \n",
      "Valid |    21/21   | loss:    0.4389 | fps:   94.4048 | acc:    0.9087   \n",
      "\n",
      "Epoch 22/35\n",
      "----------\n",
      "Train |   670/670  | loss:    0.0343 | fps:   79.5499 | acc:    0.9950   \n",
      "Valid |    21/21   | loss:    0.5042 | fps:   98.5132 | acc:    0.8948   \n",
      "\n",
      "Epoch 23/35\n",
      "----------\n",
      "Train |   670/670  | loss:    0.0343 | fps:   78.8257 | acc:    0.9944   \n",
      "Valid |    21/21   | loss:    0.4469 | fps:  109.9105 | acc:    0.8929   \n",
      "\n",
      "Epoch 24/35\n",
      "----------\n",
      "Train |   670/670  | loss:    0.0358 | fps:   78.9309 | acc:    0.9935   \n",
      "Valid |    21/21   | loss:    0.4460 | fps:  108.3730 | acc:    0.8988   \n",
      "\n",
      "Epoch 25/35\n",
      "----------\n",
      "Train |   670/670  | loss:    0.0333 | fps:   79.4954 | acc:    0.9948   \n",
      "Valid |    21/21   | loss:    0.4413 | fps:   94.4972 | acc:    0.8988   \n",
      "\n",
      "Epoch 26/35\n",
      "----------\n",
      "Train |   670/670  | loss:    0.0311 | fps:   79.1996 | acc:    0.9948   \n",
      "Valid |    21/21   | loss:    0.4781 | fps:   97.1824 | acc:    0.8849   \n",
      "\n",
      "Epoch 27/35\n",
      "----------\n",
      "Train |   670/670  | loss:    0.0326 | fps:   78.6408 | acc:    0.9948   \n",
      "Valid |    21/21   | loss:    0.4394 | fps:  102.9176 | acc:    0.9028   \n",
      "\n",
      "Epoch 28/35\n",
      "----------\n",
      "Train |   670/670  | loss:    0.0330 | fps:   78.6408 | acc:    0.9929   \n",
      "Valid |    21/21   | loss:    0.4526 | fps:  126.7541 | acc:    0.8790   \n",
      "\n",
      "Epoch 29/35\n",
      "----------\n",
      "Train |   670/670  | loss:    0.0271 | fps:   79.4273 | acc:    0.9970   \n",
      "Valid |    21/21   | loss:    0.4640 | fps:  107.6236 | acc:    0.8968   \n",
      "\n",
      "Epoch 30/35\n",
      "----------\n",
      "Train |   670/670  | loss:    0.0282 | fps:   77.2709 | acc:    0.9938   \n",
      "Valid |    21/21   | loss:    0.4505 | fps:  116.9169 | acc:    0.8929   \n",
      "\n",
      "Epoch 31/35\n",
      "----------\n",
      "Train |   670/670  | loss:    0.0305 | fps:   79.5272 | acc:    0.9946   \n",
      "Valid |    21/21   | loss:    0.4425 | fps:  108.9245 | acc:    0.8909   \n",
      "\n",
      "Epoch 32/35\n",
      "----------\n",
      "Train |   670/670  | loss:    0.0299 | fps:   77.8276 | acc:    0.9940   \n",
      "Valid |    21/21   | loss:    0.4675 | fps:   97.6626 | acc:    0.8810   \n",
      "\n",
      "Epoch 33/35\n",
      "----------\n",
      "Train |   670/670  | loss:    0.0248 | fps:   77.6964 | acc:    0.9961   \n",
      "Valid |    21/21   | loss:    0.4420 | fps:  112.6443 | acc:    0.8988   \n",
      "\n",
      "Epoch 34/35\n",
      "----------\n",
      "Train |   670/670  | loss:    0.0274 | fps:   77.0750 | acc:    0.9948   \n",
      "Valid |    21/21   | loss:    0.4394 | fps:  126.9443 | acc:    0.9048   \n",
      "\n",
      "Epoch 35/35\n",
      "----------\n",
      "Train |   670/670  | loss:    0.0233 | fps:   80.6497 | acc:    0.9965   \n",
      "Valid |    21/21   | loss:    0.4811 | fps:  112.0756 | acc:    0.9008   \n"
     ]
    }
   ],
   "source": [
    "from torch.utils.tensorboard import SummaryWriter\n",
    "writer = SummaryWriter(log_dir = 'tf-logs' )\n",
    "writer.iteration, writer.interval = 0, 10\n",
    "\n",
    "print('\\n\\nInitial')\n",
    "print('-' * 10)\n",
    "epochs = 35\n",
    "resnet.eval()\n",
    "training.pass_epoch(\n",
    "    resnet, loss_fn, valloader,\n",
    "    batch_metrics=metrics, show_running=True, device=device,\n",
    "    writer=writer\n",
    ")\n",
    "ls_i = 1e10\n",
    "\n",
    "for epoch in range(epochs):\n",
    "    print('\\nEpoch {}/{}'.format(epoch + 1, epochs))\n",
    "    print('-' * 10)\n",
    "\n",
    "    resnet.train()\n",
    "    training.pass_epoch(\n",
    "        resnet, loss_fn, trainloader, optimizer, scheduler,\n",
    "        batch_metrics=metrics, show_running=True, device=device,\n",
    "        writer=writer\n",
    "    )\n",
    "\n",
    "    resnet.eval()\n",
    "    ls,mc = training.pass_epoch(\n",
    "        resnet, loss_fn, valloader,\n",
    "        batch_metrics=metrics, show_running=True, device=device,\n",
    "        writer=writer\n",
    "    )\n",
    "    if ls < ls_i:\n",
    "        torch.save(resnet.state_dict(),'model_parameter1.pth')\n",
    "        ls_i = ls\n",
    "        print('! Save Model of', epoch, 'Epoch !')\n",
    "\n",
    "writer.close()"
   ]
  },
  {
   "cell_type": "code",
   "execution_count": 11,
   "id": "a15b7d81-cab5-4fdb-a1cd-5b7d7e01ef6a",
   "metadata": {},
   "outputs": [
    {
     "name": "stdout",
     "output_type": "stream",
     "text": [
      "False Sample 1: True Labels: 4, Predicted:30\n",
      "False Sample 2: True Labels: 37, Predicted:16\n",
      "False Sample 3: True Labels: 6, Predicted:14\n",
      "False Sample 4: True Labels: 6, Predicted:8\n",
      "False Sample 5: True Labels: 47, Predicted:20\n",
      "False Sample 6: True Labels: 31, Predicted:45\n",
      "False Sample 7: True Labels: 15, Predicted:25\n",
      "False Sample 8: True Labels: 47, Predicted:20\n",
      "False Sample 9: True Labels: 33, Predicted:45\n",
      "False Sample 10: True Labels: 34, Predicted:33\n",
      "False Sample 11: True Labels: 5, Predicted:20\n",
      "False Sample 12: True Labels: 2, Predicted:39\n",
      "False Sample 13: True Labels: 13, Predicted:21\n",
      "False Sample 14: True Labels: 16, Predicted:33\n",
      "False Sample 15: True Labels: 33, Predicted:30\n",
      "False Sample 16: True Labels: 23, Predicted:3\n",
      "False Sample 17: True Labels: 37, Predicted:34\n",
      "False Sample 18: True Labels: 8, Predicted:11\n",
      "False Sample 19: True Labels: 28, Predicted:22\n",
      "Accuracy of the network on the 196 test images: 90 %\n"
     ]
    }
   ],
   "source": [
    "resnet.eval()\n",
    "correct = 0\n",
    "total = 0\n",
    "sample_count = 0\n",
    "# since we're not training, we don't need to calculate the gradients for our outputs\n",
    "with torch.no_grad():\n",
    "    for i,data in enumerate(testloader):\n",
    "        images, labels = data\n",
    "        images, labels = images.to(device), labels.to(device)\n",
    "#         print(labels)\n",
    "        # calculate outputs by running images through the network\n",
    "        outputs = resnet(images)\n",
    "        # the class with the highest energy is what we choose as prediction\n",
    "        _,predicted  = torch.max(outputs, 1)\n",
    "#         print(predicted)\n",
    "        total += labels.size(0)\n",
    "        correct += (predicted == labels).sum().item()\n",
    "        if 0 in (predicted == labels):\n",
    "            determinant = predicted == labels\n",
    "            for j in range(len(determinant)):\n",
    "                if determinant[j] == False:\n",
    "                    print(f'False Sample {sample_count+1}: True Labels: {labels[j].item()}, Predicted:{predicted[j].item()}')\n",
    "                    sample_count += 1\n",
    "                    # plt.imshow(images[j].cpu().permute(1,2,0))\n",
    "\n",
    "print(f'Accuracy of the network on the 196 test images: {100 * correct // total} %')"
   ]
  },
  {
   "cell_type": "code",
   "execution_count": 17,
   "id": "10550a54-8d24-44de-8d9b-3105f0e0122b",
   "metadata": {},
   "outputs": [
    {
     "name": "stdout",
     "output_type": "stream",
     "text": [
      "False Sample 1: True Labels: 13, Predicted:21\n",
      "False Sample 2: True Labels: 6, Predicted:14\n",
      "False Sample 3: True Labels: 0, Predicted:45\n",
      "False Sample 4: True Labels: 47, Predicted:20\n",
      "False Sample 5: True Labels: 33, Predicted:45\n",
      "False Sample 6: True Labels: 2, Predicted:39\n",
      "False Sample 7: True Labels: 37, Predicted:39\n",
      "False Sample 8: True Labels: 6, Predicted:8\n",
      "False Sample 9: True Labels: 23, Predicted:3\n",
      "False Sample 10: True Labels: 47, Predicted:26\n",
      "False Sample 11: True Labels: 32, Predicted:34\n",
      "False Sample 12: True Labels: 34, Predicted:33\n",
      "False Sample 13: True Labels: 15, Predicted:25\n",
      "False Sample 14: True Labels: 34, Predicted:45\n",
      "False Sample 15: True Labels: 37, Predicted:30\n",
      "False Sample 16: True Labels: 8, Predicted:11\n",
      "False Sample 17: True Labels: 4, Predicted:30\n",
      "False Sample 18: True Labels: 47, Predicted:43\n",
      "False Sample 19: True Labels: 48, Predicted:42\n",
      "False Sample 20: True Labels: 5, Predicted:20\n",
      "False Sample 21: True Labels: 33, Predicted:30\n",
      "False Sample 22: True Labels: 16, Predicted:33\n",
      "Accuracy of the network on the 196 test images: 88.77551020408163 %\n"
     ]
    }
   ],
   "source": [
    "#Use early stopping model\n",
    "resnet.eval().load_state_dict(torch.load('./savedmodels/model_parameter1.pth'), strict=True)\n",
    "correct = 0\n",
    "total = 0\n",
    "sample_count = 0\n",
    "# since we're not training, we don't need to calculate the gradients for our outputs\n",
    "with torch.no_grad():\n",
    "    for i,data in enumerate(testloader):\n",
    "        images, labels = data\n",
    "        images, labels = images.to(device), labels.to(device)\n",
    "#         print(labels)\n",
    "        # calculate outputs by running images through the network\n",
    "        outputs = resnet(images)\n",
    "        # the class with the highest energy is what we choose as prediction\n",
    "        _,predicted  = torch.max(outputs, 1)\n",
    "#         print(predicted)\n",
    "        total += labels.size(0)\n",
    "        correct += (predicted == labels).sum().item()\n",
    "        if 0 in (predicted == labels):\n",
    "            determinant = predicted == labels\n",
    "            for j in range(len(determinant)):\n",
    "                if determinant[j] == False:\n",
    "                    print(f'False Sample {sample_count+1}: True Labels: {labels[j].item()}, Predicted:{predicted[j].item()}')\n",
    "                    sample_count += 1\n",
    "                    # plt.imshow(images[j].cpu().permute(1,2,0))\n",
    "\n",
    "print(f'Accuracy of the network on the 196 test images: {100 * correct / total} %')"
   ]
  },
  {
   "cell_type": "code",
   "execution_count": 18,
   "id": "c0a30930-8087-4cd1-9dd3-935a50b0fb59",
   "metadata": {},
   "outputs": [
    {
     "name": "stdout",
     "output_type": "stream",
     "text": [
      "tensor([[4., 0., 0.,  ..., 0., 0., 0.],\n",
      "        [0., 6., 0.,  ..., 0., 0., 0.],\n",
      "        [0., 0., 2.,  ..., 0., 0., 0.],\n",
      "        ...,\n",
      "        [0., 0., 0.,  ..., 1., 0., 0.],\n",
      "        [0., 0., 0.,  ..., 0., 4., 0.],\n",
      "        [0., 0., 0.,  ..., 0., 0., 3.]])\n"
     ]
    }
   ],
   "source": [
    "nb_classes = 50\n",
    "\n",
    "confusion_matrix = torch.zeros(nb_classes, nb_classes)\n",
    "with torch.no_grad():\n",
    "    for i, (inputs, classes) in enumerate(testloader):\n",
    "        inputs = inputs.to(device)\n",
    "        classes = classes.to(device)\n",
    "        outputs = resnet(inputs)\n",
    "        _, preds = torch.max(outputs, 1)\n",
    "        for t, p in zip(classes.view(-1), preds.view(-1)):\n",
    "                confusion_matrix[t.long(), p.long()] += 1\n",
    "\n",
    "print(confusion_matrix)\n",
    "acc_class = confusion_matrix.diag()/confusion_matrix.sum(1)"
   ]
  },
  {
   "cell_type": "code",
   "execution_count": 19,
   "id": "d8304e48-1e14-4b62-9826-ae2234272886",
   "metadata": {},
   "outputs": [],
   "source": [
    "conf_m = pd.DataFrame(confusion_matrix)\n",
    "conf_m.to_csv('confision_matrix.csv')"
   ]
  },
  {
   "cell_type": "code",
   "execution_count": 20,
   "id": "5da185db-da35-462d-a0fa-280856a547b5",
   "metadata": {},
   "outputs": [
    {
     "name": "stdout",
     "output_type": "stream",
     "text": [
      "[37, 47]\n"
     ]
    }
   ],
   "source": [
    "cl = 0\n",
    "bad_class  = []\n",
    "for item in acc_class:\n",
    "    if item < 0.5:\n",
    "        bad_class.append(cl)\n",
    "    cl += 1\n",
    "print(bad_class)"
   ]
  },
  {
   "cell_type": "code",
   "execution_count": 21,
   "id": "2510b28a-bd77-4f8e-adca-1de361254e65",
   "metadata": {},
   "outputs": [
    {
     "name": "stdout",
     "output_type": "stream",
     "text": [
      "Prediction :  30 , Score:  1114.9437\n",
      "Prediction :  36 , Score:  110907.34\n",
      "Prediction :  34 , Score:  103978.266\n",
      "Prediction :  38 , Score:  15694201.0\n",
      "Prediction :  12 , Score:  3001733.5\n"
     ]
    }
   ],
   "source": [
    "testloader = DataLoader(testset, batch_size=1,\n",
    "                        shuffle=True, num_workers=0)\n",
    "right_pred_score = []\n",
    "wrong_pred_score = []\n",
    "with torch.no_grad():\n",
    "    for i, (inputs, classes) in enumerate(testloader):\n",
    "        inputs = inputs.to(device)\n",
    "        classes = classes.to(device)\n",
    "        outputs = resnet(inputs)\n",
    "        ps = torch.exp(outputs)\n",
    "        topk, topclass = ps.topk(1, dim=1)\n",
    "        if i < 5:\n",
    "            print(\"Prediction : \", topclass.cpu().numpy()[0][0], \", Score: \", topk.cpu().numpy()[0][0])\n",
    "        if topclass.cpu().numpy()[0][0] == classes:\n",
    "            right_pred_score.append(topk.cpu().numpy()[0][0])\n",
    "        else:\n",
    "            wrong_pred_score.append(topk.cpu().numpy()[0][0])"
   ]
  },
  {
   "cell_type": "code",
   "execution_count": 26,
   "id": "89450a45-04c4-44e3-8791-1567980f2f59",
   "metadata": {},
   "outputs": [
    {
     "name": "stdout",
     "output_type": "stream",
     "text": [
      "35569.02695312501\n",
      "70111.733203125\n"
     ]
    }
   ],
   "source": [
    "print(np.percentile(wrong_pred_score,80))\n",
    "print(np.percentile(right_pred_score,15))"
   ]
  },
  {
   "cell_type": "code",
   "execution_count": null,
   "id": "a6698c05-7ac3-42d0-bdfd-e577aea0766a",
   "metadata": {},
   "outputs": [],
   "source": []
  }
 ],
 "metadata": {
  "kernelspec": {
   "display_name": "Python 3.8.8 ('base')",
   "language": "python",
   "name": "python3"
  },
  "language_info": {
   "codemirror_mode": {
    "name": "ipython",
    "version": 3
   },
   "file_extension": ".py",
   "mimetype": "text/x-python",
   "name": "python",
   "nbconvert_exporter": "python",
   "pygments_lexer": "ipython3",
   "version": "3.8.8 (default, Apr 13 2021, 15:08:03) [MSC v.1916 64 bit (AMD64)]"
  },
  "vscode": {
   "interpreter": {
    "hash": "e2aae14933474253bf7e204dfdcd59c9e221c3358c06c5af46c0ae09e251b4f0"
   }
  }
 },
 "nbformat": 4,
 "nbformat_minor": 5
}
